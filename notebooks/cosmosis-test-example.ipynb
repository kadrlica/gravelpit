{
 "cells": [
  {
   "cell_type": "code",
   "execution_count": null,
   "metadata": {
    "collapsed": false
   },
   "outputs": [],
   "source": [
    "%matplotlib inline\n",
    "import numpy as np\n",
    "import matplotlib.pyplot as plt"
   ]
  },
  {
   "cell_type": "markdown",
   "metadata": {},
   "source": [
    "# Interp-1d Test\n",
    "\n",
    "Test suite for `interp_1d_test`. This is a 1D interpolation to a small number of points and we don't expect the values to match."
   ]
  },
  {
   "cell_type": "code",
   "execution_count": null,
   "metadata": {
    "collapsed": false
   },
   "outputs": [],
   "source": [
    "data = np.loadtxt('interp_1d.out',unpack=True)\n",
    "fig,axes = plt.subplots(2,1,sharex=True,figsize=(5,5))\n",
    "\n",
    "axes[0].plot(data[0],data[1],'o-b',label='truth value')\n",
    "axes[0].plot(data[0],data[2],'o-g',label='expected test output')\n",
    "axes[0].plot(data[0],data[2],'o-r',label='test output')\n",
    "\n",
    "axes[1].plot(data[0],data[1]/data[2])\n",
    "axes[1].plot(data[0],data[1]/data[2])"
   ]
  }
 ],
 "metadata": {
  "anaconda-cloud": {},
  "kernelspec": {
   "display_name": "Python 2",
   "language": "python",
   "name": "python2"
  },
  "language_info": {
   "codemirror_mode": {
    "name": "ipython",
    "version": 2
   },
   "file_extension": ".py",
   "mimetype": "text/x-python",
   "name": "python",
   "nbconvert_exporter": "python",
   "pygments_lexer": "ipython2",
   "version": "2.7.12"
  }
 },
 "nbformat": 4,
 "nbformat_minor": 1
}
